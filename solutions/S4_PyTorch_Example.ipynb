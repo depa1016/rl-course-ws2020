{
  "nbformat": 4,
  "nbformat_minor": 0,
  "metadata": {
    "colab": {
      "name": "4_PyTorch_Example.ipynb",
      "provenance": [],
      "collapsed_sections": [],
      "authorship_tag": "ABX9TyMS3a9VIGYE8gp8KPG6Vfus",
      "include_colab_link": true
    },
    "kernelspec": {
      "name": "python3",
      "display_name": "Python 3"
    }
  },
  "cells": [
    {
      "cell_type": "markdown",
      "metadata": {
        "id": "view-in-github",
        "colab_type": "text"
      },
      "source": [
        "<a href=\"https://colab.research.google.com/github/pabair/rl-course-ws2020/blob/main/solutions/S4_PyTorch_Example.ipynb\" target=\"_parent\"><img src=\"https://colab.research.google.com/assets/colab-badge.svg\" alt=\"Open In Colab\"/></a>"
      ]
    },
    {
      "cell_type": "markdown",
      "metadata": {
        "id": "TOBUyiZq3d2u"
      },
      "source": [
        "# Minimal PyTorch Example\n",
        "\n"
      ]
    },
    {
      "cell_type": "markdown",
      "metadata": {
        "id": "YvwPL6u83aNe"
      },
      "source": [
        "This notebooks shows a very minimal example on how to use PyTorch for training a neural network on the Iris data set.\n",
        "\n",
        "Note: This notebook is inspired by https://jamesmccaffrey.wordpress.com/2020/05/22/a-minimal-pytorch-complete-example/"
      ]
    },
    {
      "cell_type": "markdown",
      "metadata": {
        "id": "LhdvnPe4Q-pO"
      },
      "source": [
        "### 0. Preamble"
      ]
    },
    {
      "cell_type": "code",
      "metadata": {
        "id": "K8-YOrlu3w8z"
      },
      "source": [
        "import numpy as np\n",
        "import torch\n",
        "import torch.nn.functional as F\n",
        "import torch.nn as nn\n",
        "import matplotlib.pyplot as plt\n",
        "import pandas as pd\n",
        "from sklearn.model_selection import train_test_split\n",
        "\n",
        "torch.manual_seed(1)\n",
        "np.random.seed(1)"
      ],
      "execution_count": 1,
      "outputs": []
    },
    {
      "cell_type": "markdown",
      "metadata": {
        "id": "Tf59x5HX3zMO"
      },
      "source": [
        "The following lines checks for GPU availability on the machine and sets the GPU as processing device (if available).\n",
        "If you are on Colab you can enable GPU support in the menu via  \"Runtime > Change runtime type\" and select \"GPU\" as hardware accelerator."
      ]
    },
    {
      "cell_type": "code",
      "metadata": {
        "colab": {
          "base_uri": "https://localhost:8080/"
        },
        "id": "S3DgoJj735Gr",
        "outputId": "68a7aba4-eb31-41e2-cae9-8336ec2cd029"
      },
      "source": [
        "if(torch.cuda.is_available()):\n",
        "  processing_chip = \"cuda:0\"\n",
        "  print(f\"{torch.cuda.get_device_name(0)} available\")\n",
        "else:\n",
        "  processing_chip = \"cpu\"\n",
        "  print(\"No GPU available\")\n",
        "\n",
        "device = torch.device(processing_chip)\n",
        "device"
      ],
      "execution_count": 2,
      "outputs": [
        {
          "output_type": "stream",
          "text": [
            "No GPU available\n"
          ],
          "name": "stdout"
        },
        {
          "output_type": "execute_result",
          "data": {
            "text/plain": [
              "device(type='cpu')"
            ]
          },
          "metadata": {
            "tags": []
          },
          "execution_count": 2
        }
      ]
    },
    {
      "cell_type": "markdown",
      "metadata": {
        "id": "Y8EgmXccAr9b"
      },
      "source": [
        "### 1. Data Preperation"
      ]
    },
    {
      "cell_type": "markdown",
      "metadata": {
        "id": "lQbkjF8hstMZ"
      },
      "source": [
        "For this small example we use the [Iris flower data set](https://en.wikipedia.org/wiki/Iris_flower_data_set). The data set consists of 50 samples from each of three species of Iris (Iris setosa, Iris virginica and Iris versicolor). Four features were measured from each sample: the length and the width of the sepals and petals, in centimeters. Based on these four features, we want to train a model that can predict the species.\n",
        "\n",
        "In the first step we load the data into a Pandas."
      ]
    },
    {
      "cell_type": "code",
      "metadata": {
        "colab": {
          "base_uri": "https://localhost:8080/",
          "height": 198
        },
        "id": "DZoYUZfQ_TU8",
        "outputId": "565bbd5e-8d48-4141-9e5c-600c3921a6bb"
      },
      "source": [
        "url = 'https://raw.githubusercontent.com/pabair/rl-course-ws2020/main/data/iris.csv'\n",
        "dataset = pd.read_csv(url)\n",
        "dataset.head(5)"
      ],
      "execution_count": 3,
      "outputs": [
        {
          "output_type": "execute_result",
          "data": {
            "text/html": [
              "<div>\n",
              "<style scoped>\n",
              "    .dataframe tbody tr th:only-of-type {\n",
              "        vertical-align: middle;\n",
              "    }\n",
              "\n",
              "    .dataframe tbody tr th {\n",
              "        vertical-align: top;\n",
              "    }\n",
              "\n",
              "    .dataframe thead th {\n",
              "        text-align: right;\n",
              "    }\n",
              "</style>\n",
              "<table border=\"1\" class=\"dataframe\">\n",
              "  <thead>\n",
              "    <tr style=\"text-align: right;\">\n",
              "      <th></th>\n",
              "      <th>sepal_length</th>\n",
              "      <th>sepal_width</th>\n",
              "      <th>petal_length</th>\n",
              "      <th>petal_width</th>\n",
              "      <th>species</th>\n",
              "    </tr>\n",
              "  </thead>\n",
              "  <tbody>\n",
              "    <tr>\n",
              "      <th>0</th>\n",
              "      <td>5.1</td>\n",
              "      <td>3.5</td>\n",
              "      <td>1.4</td>\n",
              "      <td>0.2</td>\n",
              "      <td>Iris-setosa</td>\n",
              "    </tr>\n",
              "    <tr>\n",
              "      <th>1</th>\n",
              "      <td>4.9</td>\n",
              "      <td>3.0</td>\n",
              "      <td>1.4</td>\n",
              "      <td>0.2</td>\n",
              "      <td>Iris-setosa</td>\n",
              "    </tr>\n",
              "    <tr>\n",
              "      <th>2</th>\n",
              "      <td>4.7</td>\n",
              "      <td>3.2</td>\n",
              "      <td>1.3</td>\n",
              "      <td>0.2</td>\n",
              "      <td>Iris-setosa</td>\n",
              "    </tr>\n",
              "    <tr>\n",
              "      <th>3</th>\n",
              "      <td>4.6</td>\n",
              "      <td>3.1</td>\n",
              "      <td>1.5</td>\n",
              "      <td>0.2</td>\n",
              "      <td>Iris-setosa</td>\n",
              "    </tr>\n",
              "    <tr>\n",
              "      <th>4</th>\n",
              "      <td>5.0</td>\n",
              "      <td>3.6</td>\n",
              "      <td>1.4</td>\n",
              "      <td>0.2</td>\n",
              "      <td>Iris-setosa</td>\n",
              "    </tr>\n",
              "  </tbody>\n",
              "</table>\n",
              "</div>"
            ],
            "text/plain": [
              "   sepal_length  sepal_width  petal_length  petal_width      species\n",
              "0           5.1          3.5           1.4          0.2  Iris-setosa\n",
              "1           4.9          3.0           1.4          0.2  Iris-setosa\n",
              "2           4.7          3.2           1.3          0.2  Iris-setosa\n",
              "3           4.6          3.1           1.5          0.2  Iris-setosa\n",
              "4           5.0          3.6           1.4          0.2  Iris-setosa"
            ]
          },
          "metadata": {
            "tags": []
          },
          "execution_count": 3
        }
      ]
    },
    {
      "cell_type": "markdown",
      "metadata": {
        "id": "3wk_OnO451DX"
      },
      "source": [
        "To be able to train a model, we first need to transform the *species* column into a numeric:"
      ]
    },
    {
      "cell_type": "code",
      "metadata": {
        "colab": {
          "base_uri": "https://localhost:8080/",
          "height": 198
        },
        "id": "fQqdZZ16AHBe",
        "outputId": "0757cab7-e95c-416f-ec60-8a62a8b2228d"
      },
      "source": [
        "dataset.loc[dataset.species=='Iris-setosa', 'species'] = 0\n",
        "dataset.loc[dataset.species=='Iris-versicolor', 'species'] = 1\n",
        "dataset.loc[dataset.species=='Iris-virginica', 'species'] = 2\n",
        "dataset.head()"
      ],
      "execution_count": 4,
      "outputs": [
        {
          "output_type": "execute_result",
          "data": {
            "text/html": [
              "<div>\n",
              "<style scoped>\n",
              "    .dataframe tbody tr th:only-of-type {\n",
              "        vertical-align: middle;\n",
              "    }\n",
              "\n",
              "    .dataframe tbody tr th {\n",
              "        vertical-align: top;\n",
              "    }\n",
              "\n",
              "    .dataframe thead th {\n",
              "        text-align: right;\n",
              "    }\n",
              "</style>\n",
              "<table border=\"1\" class=\"dataframe\">\n",
              "  <thead>\n",
              "    <tr style=\"text-align: right;\">\n",
              "      <th></th>\n",
              "      <th>sepal_length</th>\n",
              "      <th>sepal_width</th>\n",
              "      <th>petal_length</th>\n",
              "      <th>petal_width</th>\n",
              "      <th>species</th>\n",
              "    </tr>\n",
              "  </thead>\n",
              "  <tbody>\n",
              "    <tr>\n",
              "      <th>0</th>\n",
              "      <td>5.1</td>\n",
              "      <td>3.5</td>\n",
              "      <td>1.4</td>\n",
              "      <td>0.2</td>\n",
              "      <td>0</td>\n",
              "    </tr>\n",
              "    <tr>\n",
              "      <th>1</th>\n",
              "      <td>4.9</td>\n",
              "      <td>3.0</td>\n",
              "      <td>1.4</td>\n",
              "      <td>0.2</td>\n",
              "      <td>0</td>\n",
              "    </tr>\n",
              "    <tr>\n",
              "      <th>2</th>\n",
              "      <td>4.7</td>\n",
              "      <td>3.2</td>\n",
              "      <td>1.3</td>\n",
              "      <td>0.2</td>\n",
              "      <td>0</td>\n",
              "    </tr>\n",
              "    <tr>\n",
              "      <th>3</th>\n",
              "      <td>4.6</td>\n",
              "      <td>3.1</td>\n",
              "      <td>1.5</td>\n",
              "      <td>0.2</td>\n",
              "      <td>0</td>\n",
              "    </tr>\n",
              "    <tr>\n",
              "      <th>4</th>\n",
              "      <td>5.0</td>\n",
              "      <td>3.6</td>\n",
              "      <td>1.4</td>\n",
              "      <td>0.2</td>\n",
              "      <td>0</td>\n",
              "    </tr>\n",
              "  </tbody>\n",
              "</table>\n",
              "</div>"
            ],
            "text/plain": [
              "   sepal_length  sepal_width  petal_length  petal_width species\n",
              "0           5.1          3.5           1.4          0.2       0\n",
              "1           4.9          3.0           1.4          0.2       0\n",
              "2           4.7          3.2           1.3          0.2       0\n",
              "3           4.6          3.1           1.5          0.2       0\n",
              "4           5.0          3.6           1.4          0.2       0"
            ]
          },
          "metadata": {
            "tags": []
          },
          "execution_count": 4
        }
      ]
    },
    {
      "cell_type": "markdown",
      "metadata": {
        "id": "hYLgEfDUPu2_"
      },
      "source": [
        "Next, we specify which columns we want to use as features and which as label:"
      ]
    },
    {
      "cell_type": "code",
      "metadata": {
        "id": "-uHB8hU0A4sI"
      },
      "source": [
        "X = dataset[dataset.columns[0:4]].values\n",
        "y = dataset.species.values.astype(int)"
      ],
      "execution_count": 5,
      "outputs": []
    },
    {
      "cell_type": "markdown",
      "metadata": {
        "id": "pNUlUKPYtz8C"
      },
      "source": [
        "We then split our data into training and test data."
      ]
    },
    {
      "cell_type": "code",
      "metadata": {
        "colab": {
          "base_uri": "https://localhost:8080/"
        },
        "id": "fQvkW7kct2Ry",
        "outputId": "68d98e39-2538-497b-bcad-7128c6ed467e"
      },
      "source": [
        "train_X, test_X, train_y, test_y = train_test_split(X, y, test_size=0.2)\n",
        "print(train_X.shape, test_X.shape)"
      ],
      "execution_count": 6,
      "outputs": [
        {
          "output_type": "stream",
          "text": [
            "(120, 4) (30, 4)\n"
          ],
          "name": "stdout"
        }
      ]
    },
    {
      "cell_type": "markdown",
      "metadata": {
        "id": "56Ep6AWT5-Wy"
      },
      "source": [
        "To be able to use the data in PyTorch, we need to convert them into PyTorch tensors. Such a tensor can be thought of an efficient way to represent lists and matrices (similar to Numpy), with the additional benefit that they can be moved to the GPU (the `.to(device)` part in the code below) and that they support automatic backpropagation (more on this later):"
      ]
    },
    {
      "cell_type": "code",
      "metadata": {
        "id": "-OI44o3i-grB"
      },
      "source": [
        "train_x = torch.Tensor(train_X).float().to(device)\n",
        "test_x = torch.Tensor(test_X).float().to(device)\n",
        "train_y =torch.Tensor(train_y).long().to(device)\n",
        "test_y = torch.Tensor(test_y).long().to(device)"
      ],
      "execution_count": 7,
      "outputs": []
    },
    {
      "cell_type": "markdown",
      "metadata": {
        "id": "5wcTXnyu7NWK"
      },
      "source": [
        "### 2. Model definition\n",
        "We define now the strucutre of our neural network.\n",
        "By convention we put in the `__init__` method the layers we want to use in the network and in the `forward` mehtod how data flows through this network.\n",
        "\n",
        "Our network has 4 input features, 7 hidden layer nodes and 3 output neurons. The hidden layer uses a Relu activation function. Note that the output layer dos not have a softmax activation, but rather gives out a raw score for each class. \n"
      ]
    },
    {
      "cell_type": "code",
      "metadata": {
        "id": "_W47oZ534E-1"
      },
      "source": [
        "class Net(nn.Module):\n",
        "  def __init__(self):\n",
        "    super(Net, self).__init__()\n",
        "    self.hidden = nn.Linear(4, 7)  \n",
        "    self.output = nn.Linear(7, 3)\n",
        "\n",
        "  def forward(self, x):\n",
        "    z = F.relu(self.hidden(x))\n",
        "    z = self.output(z)  # no softmax. see CrossEntropyLoss() \n",
        "    return z"
      ],
      "execution_count": 8,
      "outputs": []
    },
    {
      "cell_type": "markdown",
      "metadata": {
        "id": "gJyy5JG_84vs"
      },
      "source": [
        "### 3. Model Training\n",
        "We can now start traininging our network. We run several epochs in which we first predict on the training data with our network and than backpropagate the loss. For this we use PyTorch's build-in optimizer that runs gradient descent on the weights of the network. Hence, in every episode we reduce the loss on the training data and improve our network.\n",
        "\n",
        "As loss function we use cross entropy, which consumes the raw scores from the prediction and internally applies a softmax (that is why we do not need the softmax as last layer in the network).\n",
        "\n",
        "Note that all training data is passed at once to our network (line `net(train_x)`), since PyTorch will predict on all data points in parallel. "
      ]
    },
    {
      "cell_type": "code",
      "metadata": {
        "colab": {
          "base_uri": "https://localhost:8080/"
        },
        "id": "7RQHZvvyAFzV",
        "outputId": "93ef3d4f-8988-4216-a3e8-e49f46836d65"
      },
      "source": [
        "# create network, move it to device and set it to training-mode\n",
        "net = Net().to(device)\n",
        "net.train()\n",
        "\n",
        "# define the parameters for training\n",
        "no_epochs = 100\n",
        "learning_rate = 0.04\n",
        "loss_func = nn.CrossEntropyLoss()  # applies softmax() internally\n",
        "optimizer = torch.optim.SGD(net.parameters(), lr=learning_rate)\n",
        "\n",
        "print(\"\\nStarting training \")\n",
        "\n",
        "train_losses = []\n",
        "for epoch in range(0, no_epochs):\n",
        "\n",
        "  optimizer.zero_grad()\n",
        "  output = net(train_x)\n",
        "\n",
        "  loss = loss_func(output, train_y)\n",
        "  loss.backward()\n",
        "  optimizer.step()\n",
        "\n",
        "  train_losses.append(loss.item())\n",
        "  \n",
        "  if epoch % 10 == 0:\n",
        "    print(f\"Loss in epoch {epoch} is {loss.item()}\")\n",
        "\n",
        "print(\"Done training \")"
      ],
      "execution_count": 9,
      "outputs": [
        {
          "output_type": "stream",
          "text": [
            "\n",
            "Starting training \n",
            "Loss in epoch 0 is 1.0482261180877686\n",
            "Loss in epoch 10 is 0.9550653696060181\n",
            "Loss in epoch 20 is 0.8918361067771912\n",
            "Loss in epoch 30 is 0.8317935466766357\n",
            "Loss in epoch 40 is 0.763667643070221\n",
            "Loss in epoch 50 is 0.6900128722190857\n",
            "Loss in epoch 60 is 0.6203580498695374\n",
            "Loss in epoch 70 is 0.5627500414848328\n",
            "Loss in epoch 80 is 0.5164117217063904\n",
            "Loss in epoch 90 is 0.4786451458930969\n",
            "Done training \n"
          ],
          "name": "stdout"
        }
      ]
    },
    {
      "cell_type": "code",
      "metadata": {
        "colab": {
          "base_uri": "https://localhost:8080/",
          "height": 296
        },
        "id": "fMPxG1i873W7",
        "outputId": "b4fbd5fb-9a04-4c8a-b237-0dee54f2e466"
      },
      "source": [
        "  fig = plt.figure()\n",
        "  plt.plot(range(0, no_epochs), train_losses, color='blue')\n",
        "  plt.legend(['Train Loss'], loc='upper right')\n",
        "  plt.xlabel('number of epochs')\n",
        "  plt.ylabel('loss')"
      ],
      "execution_count": 10,
      "outputs": [
        {
          "output_type": "execute_result",
          "data": {
            "text/plain": [
              "Text(0, 0.5, 'loss')"
            ]
          },
          "metadata": {
            "tags": []
          },
          "execution_count": 10
        },
        {
          "output_type": "display_data",
          "data": {
            "image/png": "[encoded data removed]",
            "text/plain": [
              "<Figure size 432x288 with 1 Axes>"
            ]
          },
          "metadata": {
            "tags": [],
            "needs_background": "light"
          }
        }
      ]
    },
    {
      "cell_type": "markdown",
      "metadata": {
        "id": "cN8btFSP3yU2"
      },
      "source": [
        "### 4. Model Evaluation\n",
        "Finally, we check the model accuracy on the test data. For this we predict on the test data, identify the class with the highest score and compare it to the true label."
      ]
    },
    {
      "cell_type": "code",
      "metadata": {
        "colab": {
          "base_uri": "https://localhost:8080/"
        },
        "id": "wsmVfo49Kytp",
        "outputId": "bcdf4c81-8398-4b9c-f283-2904528ea41f"
      },
      "source": [
        "net.eval() # set network to evaluation mode\n",
        "y_pred = net(test_x)\n",
        "_, predicted = torch.max(y_pred.data, 1)\n",
        "correct = (predicted == test_y).sum().item()\n",
        "print(f\"Accuarcy is {100. * correct / len(test_x)}%\")"
      ],
      "execution_count": 11,
      "outputs": [
        {
          "output_type": "stream",
          "text": [
            "Accuarcy is 66.66666666666667%\n"
          ],
          "name": "stdout"
        }
      ]
    }
  ]
}