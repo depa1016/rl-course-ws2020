{
  "nbformat": 4,
  "nbformat_minor": 0,
  "metadata": {
    "colab": {
      "name": "4_PyTorch_Example.ipynb",
      "provenance": [],
      "collapsed_sections": [],
      "authorship_tag": "ABX9TyNY/f8Mfghh8CnQQuUUGtYX",
      "include_colab_link": true
    },
    "kernelspec": {
      "name": "python3",
      "display_name": "Python 3"
    }
  },
  "cells": [
    {
      "cell_type": "markdown",
      "metadata": {
        "id": "view-in-github",
        "colab_type": "text"
      },
      "source": [
        "<a href=\"https://colab.research.google.com/github/pabair/rl-course-ws2020/blob/main/4_PyTorch_Example.ipynb\" target=\"_parent\"><img src=\"https://colab.research.google.com/assets/colab-badge.svg\" alt=\"Open In Colab\"/></a>"
      ]
    },
    {
      "cell_type": "markdown",
      "metadata": {
        "id": "TOBUyiZq3d2u"
      },
      "source": [
        "# Minimal PyTorch Example\n",
        "\n"
      ]
    },
    {
      "cell_type": "markdown",
      "metadata": {
        "id": "YvwPL6u83aNe"
      },
      "source": [
        "This notebook is inspired by https://jamesmccaffrey.wordpress.com/2020/05/22/a-minimal-pytorch-complete-example/"
      ]
    },
    {
      "cell_type": "code",
      "metadata": {
        "id": "K8-YOrlu3w8z"
      },
      "source": [
        "import numpy as np\n",
        "import torch\n",
        "import torch.nn.functional as F\n",
        "import torch.nn as nn\n",
        "import matplotlib.pyplot as plt\n",
        "\n",
        "torch.manual_seed(1)\n",
        "np.random.seed(1)"
      ],
      "execution_count": 19,
      "outputs": []
    },
    {
      "cell_type": "markdown",
      "metadata": {
        "id": "Tf59x5HX3zMO"
      },
      "source": [
        "The following lines check for a GPU and decides if we want to train on the CPU or the GPU (if available)."
      ]
    },
    {
      "cell_type": "code",
      "metadata": {
        "colab": {
          "base_uri": "https://localhost:8080/"
        },
        "id": "S3DgoJj735Gr",
        "outputId": "a25b8b31-eb4d-46c3-e66d-e26350d39cfa"
      },
      "source": [
        "if(torch.cuda.is_available()):\n",
        "  print(f\"{torch.cuda.get_device_name(0)} available\")\n",
        "else:\n",
        "  print(\"No GPU available\")\n",
        "\n",
        "compute_chip = \"cpu\"\n",
        "#compute_chip = \"cuda:0\"\n",
        "device = torch.device(compute_chip)\n",
        "device"
      ],
      "execution_count": 18,
      "outputs": [
        {
          "output_type": "stream",
          "text": [
            "No GPU available\n"
          ],
          "name": "stdout"
        },
        {
          "output_type": "execute_result",
          "data": {
            "text/plain": [
              "device(type='cpu')"
            ]
          },
          "metadata": {
            "tags": []
          },
          "execution_count": 18
        }
      ]
    },
    {
      "cell_type": "markdown",
      "metadata": {
        "id": "3wk_OnO451DX"
      },
      "source": [
        "We start by generating our data set as numpy arrays."
      ]
    },
    {
      "cell_type": "code",
      "metadata": {
        "colab": {
          "base_uri": "https://localhost:8080/"
        },
        "id": "mvykP-k35tps",
        "outputId": "2ef4bfd2-283f-4b5b-c392-0a7cf52090bf"
      },
      "source": [
        "train_x = np.array([\n",
        "  [5.0, 3.5, 1.3, 0.3],\n",
        "  [4.5, 2.3, 1.3, 0.3],\n",
        "  [5.5, 2.6, 4.4, 1.2],\n",
        "  [6.1, 3.0, 4.6, 1.4],\n",
        "  [6.7, 3.1, 5.6, 2.4],\n",
        "  [6.9, 3.1, 5.1, 2.3]], dtype=np.float32) \n",
        "\n",
        "train_y = np.array([0, 0, 1, 1, 2, 2], dtype=np.long)\n",
        "\n",
        "print(\"\\nTraining predictors:\")\n",
        "print(train_x)\n",
        "print(\"\\nTraining class labels: \")\n",
        "print(train_y)\n"
      ],
      "execution_count": 22,
      "outputs": [
        {
          "output_type": "stream",
          "text": [
            "\n",
            "Training predictors:\n",
            "[[5.  3.5 1.3 0.3]\n",
            " [4.5 2.3 1.3 0.3]\n",
            " [5.5 2.6 4.4 1.2]\n",
            " [6.1 3.  4.6 1.4]\n",
            " [6.7 3.1 5.6 2.4]\n",
            " [6.9 3.1 5.1 2.3]]\n",
            "\n",
            "Training class labels: \n",
            "[0 0 1 1 2 2]\n"
          ],
          "name": "stdout"
        }
      ]
    },
    {
      "cell_type": "markdown",
      "metadata": {
        "id": "56Ep6AWT5-Wy"
      },
      "source": [
        "To be able to work with them in PyTorch the data is converted to PyTorch tensors"
      ]
    },
    {
      "cell_type": "code",
      "metadata": {
        "id": "WzqsD7Tb6Idi"
      },
      "source": [
        "train_x = T.tensor(train_x, dtype=torch.float32).to(device)\n",
        "train_y = T.tensor(train_y, dtype=torch.long).to(device)"
      ],
      "execution_count": 23,
      "outputs": []
    },
    {
      "cell_type": "markdown",
      "metadata": {
        "id": "5wcTXnyu7NWK"
      },
      "source": [
        "We now define our neural network that has 4 input features, 7 hidden layer nodes and 3 output neurons. The hidden layer uses a Relu activation function."
      ]
    },
    {
      "cell_type": "code",
      "metadata": {
        "id": "_W47oZ534E-1"
      },
      "source": [
        "class Net(nn.Module):\n",
        "  def __init__(self):\n",
        "    super(Net, self).__init__()\n",
        "    self.hidden = T.nn.Linear(4, 7)  \n",
        "    self.output = T.nn.Linear(7, 3)\n",
        "\n",
        "  def forward(self, x):\n",
        "    z = F.relu(self.hidden(x))\n",
        "    z = self.output(z)  # no softmax. see CrossEntropyLoss() \n",
        "    return z"
      ],
      "execution_count": null,
      "outputs": []
    },
    {
      "cell_type": "markdown",
      "metadata": {
        "id": "gJyy5JG_84vs"
      },
      "source": [
        "We can now start training. several epochs, gradient descent, bla"
      ]
    },
    {
      "cell_type": "code",
      "metadata": {
        "colab": {
          "base_uri": "https://localhost:8080/"
        },
        "id": "7RQHZvvyAFzV",
        "outputId": "f7073b07-dff9-4603-c4f1-1a1c426baa1a"
      },
      "source": [
        "# create network and set it to training-mode\n",
        "net = Net().to(device)\n",
        "net.train()\n",
        "\n",
        "# define the parameters for training\n",
        "max_epochs = 50\n",
        "lrn_rate = 0.04\n",
        "loss_func = T.nn.CrossEntropyLoss()  # applies softmax()\n",
        "optimizer = T.optim.SGD(net.parameters(), lr=lrn_rate)\n",
        "\n",
        "print(\"\\nStarting training \")\n",
        "\n",
        "train_losses = []\n",
        "for epoch in range(0, max_epochs):\n",
        "\n",
        "  epoch_loss = 0\n",
        "\n",
        "  optimizer.zero_grad()\n",
        "  oupt = net(train_x)\n",
        "\n",
        "  loss = loss_func(oupt, train_y)\n",
        "  loss.backward()\n",
        "  optimizer.step()\n",
        "\n",
        "  epoch_loss += loss.item()\n",
        "\n",
        "  train_losses.append(epoch_loss)\n",
        "  \n",
        "  print(f\"Loss in epoch {epoch+1} is {epoch_loss}\")\n",
        "\n",
        "print(\"Done training \")"
      ],
      "execution_count": 29,
      "outputs": [
        {
          "output_type": "stream",
          "text": [
            "\n",
            "Starting training \n",
            "Loss in epoch 1 is 1.261938214302063\n",
            "Loss in epoch 2 is 1.088046669960022\n",
            "Loss in epoch 3 is 1.037471890449524\n",
            "Loss in epoch 4 is 1.0145313739776611\n",
            "Loss in epoch 5 is 0.9954627156257629\n",
            "Loss in epoch 6 is 0.9801054000854492\n",
            "Loss in epoch 7 is 0.9632339477539062\n",
            "Loss in epoch 8 is 0.928635835647583\n",
            "Loss in epoch 9 is 0.9065180420875549\n",
            "Loss in epoch 10 is 0.8926162123680115\n",
            "Loss in epoch 11 is 0.8787279725074768\n",
            "Loss in epoch 12 is 0.8641820549964905\n",
            "Loss in epoch 13 is 0.8498549461364746\n",
            "Loss in epoch 14 is 0.8389857411384583\n",
            "Loss in epoch 15 is 0.828940212726593\n",
            "Loss in epoch 16 is 0.81988924741745\n",
            "Loss in epoch 17 is 0.8101615309715271\n",
            "Loss in epoch 18 is 0.8001749515533447\n",
            "Loss in epoch 19 is 0.7911115288734436\n",
            "Loss in epoch 20 is 0.7819629311561584\n",
            "Loss in epoch 21 is 0.7736766934394836\n",
            "Loss in epoch 22 is 0.7645843625068665\n",
            "Loss in epoch 23 is 0.7557646632194519\n",
            "Loss in epoch 24 is 0.7468578219413757\n",
            "Loss in epoch 25 is 0.7397375702857971\n",
            "Loss in epoch 26 is 0.7311100959777832\n",
            "Loss in epoch 27 is 0.7224688529968262\n",
            "Loss in epoch 28 is 0.7147106528282166\n",
            "Loss in epoch 29 is 0.7075689435005188\n",
            "Loss in epoch 30 is 0.6993975043296814\n",
            "Loss in epoch 31 is 0.6916375756263733\n",
            "Loss in epoch 32 is 0.6844110488891602\n",
            "Loss in epoch 33 is 0.6775636672973633\n",
            "Loss in epoch 34 is 0.6702000498771667\n",
            "Loss in epoch 35 is 0.6629884243011475\n",
            "Loss in epoch 36 is 0.6560047268867493\n",
            "Loss in epoch 37 is 0.650144636631012\n",
            "Loss in epoch 38 is 0.6433821320533752\n",
            "Loss in epoch 39 is 0.6365726590156555\n",
            "Loss in epoch 40 is 0.6300544738769531\n",
            "Loss in epoch 41 is 0.6251609325408936\n",
            "Loss in epoch 42 is 0.6187893748283386\n",
            "Loss in epoch 43 is 0.6126242280006409\n",
            "Loss in epoch 44 is 0.6065384745597839\n",
            "Loss in epoch 45 is 0.6022763252258301\n",
            "Loss in epoch 46 is 0.5965521931648254\n",
            "Loss in epoch 47 is 0.5909988284111023\n",
            "Loss in epoch 48 is 0.5855054259300232\n",
            "Loss in epoch 49 is 0.581337034702301\n",
            "Loss in epoch 50 is 0.5765627026557922\n",
            "Done training \n",
            "\n",
            "Predicting species for [5.8, 2.8, 4.5, 1.3]: \n",
            "[[0.1155 0.4129 0.4716]]\n"
          ],
          "name": "stdout"
        }
      ]
    },
    {
      "cell_type": "code",
      "metadata": {
        "colab": {
          "base_uri": "https://localhost:8080/",
          "height": 296
        },
        "id": "fMPxG1i873W7",
        "outputId": "295a7ffb-0d31-4504-85ad-b0b5a97cfa70"
      },
      "source": [
        "  fig = plt.figure()\n",
        "  plt.plot(range(0, max_epochs), train_losses, color='blue')\n",
        "  plt.legend(['Train Loss'], loc='upper right')\n",
        "  plt.xlabel('number of epochs')\n",
        "  plt.ylabel('loss')"
      ],
      "execution_count": 30,
      "outputs": [
        {
          "output_type": "execute_result",
          "data": {
            "text/plain": [
              "Text(0, 0.5, 'loss')"
            ]
          },
          "metadata": {
            "tags": []
          },
          "execution_count": 30
        },
        {
          "output_type": "display_data",
          "data": {
            "image/png": "[encoded data removed]",
            "text/plain": [
              "<Figure size 432x288 with 1 Axes>"
            ]
          },
          "metadata": {
            "tags": [],
            "needs_background": "light"
          }
        }
      ]
    },
    {
      "cell_type": "markdown",
      "metadata": {
        "id": "cN8btFSP3yU2"
      },
      "source": [
        "Next, we check the model accuracy on the test data."
      ]
    },
    {
      "cell_type": "code",
      "metadata": {
        "id": "6ufvn0BU3vuD"
      },
      "source": [
        "# 4. (evaluate model accuracy)"
      ],
      "execution_count": null,
      "outputs": []
    },
    {
      "cell_type": "markdown",
      "metadata": {
        "id": "d7BisaBx9DNc"
      },
      "source": [
        "Predict on a single data point"
      ]
    },
    {
      "cell_type": "code",
      "metadata": {
        "id": "uFLIoDTfANvo",
        "colab": {
          "base_uri": "https://localhost:8080/"
        },
        "outputId": "c9a8a2a5-0a07-48f0-cd3c-47cca5228e9f"
      },
      "source": [
        "net.eval()\n",
        "print(\"\\nPredicting species for [5.8, 2.8, 4.5, 1.3]: \")\n",
        "unk = np.array([[5.8, 2.8, 4.5, 1.3]], dtype=np.float32)\n",
        "unk = T.tensor(unk, dtype=T.float32).to(device) \n",
        "logits = net(unk).to(device)\n",
        "probs = T.softmax(logits, dim=1)\n",
        "probs = probs.detach().numpy()  # allows printoptions\n",
        "\n",
        "np.set_printoptions(precision=4)\n",
        "print(probs)"
      ],
      "execution_count": 31,
      "outputs": [
        {
          "output_type": "stream",
          "text": [
            "\n",
            "Predicting species for [5.8, 2.8, 4.5, 1.3]: \n",
            "[[0.1155 0.4129 0.4716]]\n"
          ],
          "name": "stdout"
        }
      ]
    },
    {
      "cell_type": "code",
      "metadata": {
        "id": "BMNF-IzQ9WIB"
      },
      "source": [
        ""
      ],
      "execution_count": null,
      "outputs": []
    }
  ]
}